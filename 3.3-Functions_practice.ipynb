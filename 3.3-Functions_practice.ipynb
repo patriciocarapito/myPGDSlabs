{
 "cells": [
  {
   "cell_type": "markdown",
   "id": "4599a3b6",
   "metadata": {},
   "source": [
    "# Function practice"
   ]
  },
  {
   "cell_type": "code",
   "execution_count": 7,
   "id": "d89c273d",
   "metadata": {},
   "outputs": [],
   "source": [
    "# First function example: Add 1 to a and store as b\n",
    "\n",
    "def add(a):\n",
    "    b = a + 1\n",
    "    print(a, \"if you add one\", b)\n",
    "    return(b)"
   ]
  },
  {
   "cell_type": "code",
   "execution_count": 2,
   "id": "7bfdfb19",
   "metadata": {},
   "outputs": [
    {
     "name": "stdout",
     "output_type": "stream",
     "text": [
      "34 if you add one 35\n"
     ]
    },
    {
     "data": {
      "text/plain": [
       "35"
      ]
     },
     "execution_count": 2,
     "metadata": {},
     "output_type": "execute_result"
    }
   ],
   "source": [
    "# test the first function\n",
    "\n",
    "add(34)"
   ]
  },
  {
   "cell_type": "code",
   "execution_count": 3,
   "id": "b1d6b676",
   "metadata": {},
   "outputs": [
    {
     "name": "stdout",
     "output_type": "stream",
     "text": [
      "Help on function add in module __main__:\n",
      "\n",
      "add(a)\n",
      "\n"
     ]
    }
   ],
   "source": [
    "# Get a help on add function\n",
    "\n",
    "help(add)"
   ]
  },
  {
   "cell_type": "code",
   "execution_count": 8,
   "id": "530e555b",
   "metadata": {},
   "outputs": [],
   "source": [
    "# Put an help text before the body to test the command help(add)\n",
    "\n",
    "def add(a):\n",
    "    \"\"\"\n",
    "    add 1 to a\n",
    "    \"\"\"\n",
    "    b = a + 1\n",
    "    print(a, \"if you add one\", b)\n",
    "    return(b)"
   ]
  },
  {
   "cell_type": "code",
   "execution_count": 9,
   "id": "fce4817a",
   "metadata": {},
   "outputs": [
    {
     "name": "stdout",
     "output_type": "stream",
     "text": [
      "Help on function add in module __main__:\n",
      "\n",
      "add(a)\n",
      "    add 1 to a\n",
      "\n"
     ]
    }
   ],
   "source": [
    "# Get a help on add function\n",
    "\n",
    "help(add)"
   ]
  },
  {
   "cell_type": "code",
   "execution_count": 4,
   "id": "0b2c4933",
   "metadata": {},
   "outputs": [
    {
     "name": "stdout",
     "output_type": "stream",
     "text": [
      "1 if you add one 2\n"
     ]
    },
    {
     "data": {
      "text/plain": [
       "2"
      ]
     },
     "execution_count": 4,
     "metadata": {},
     "output_type": "execute_result"
    }
   ],
   "source": [
    "# Call the function add()\n",
    "\n",
    "add(1)"
   ]
  },
  {
   "cell_type": "code",
   "execution_count": 5,
   "id": "6ee81fd1",
   "metadata": {},
   "outputs": [
    {
     "name": "stdout",
     "output_type": "stream",
     "text": [
      "2 if you add one 3\n"
     ]
    },
    {
     "data": {
      "text/plain": [
       "3"
      ]
     },
     "execution_count": 5,
     "metadata": {},
     "output_type": "execute_result"
    }
   ],
   "source": [
    "# Call the function add()\n",
    "\n",
    "add(2)"
   ]
  },
  {
   "cell_type": "code",
   "execution_count": 10,
   "id": "0b0624e4",
   "metadata": {},
   "outputs": [],
   "source": [
    "# Define a function for multiple two numbers\n",
    "\n",
    "def Mult(a, b):\n",
    "    c = a * b\n",
    "    return(c)"
   ]
  },
  {
   "cell_type": "code",
   "execution_count": 11,
   "id": "eb29d781",
   "metadata": {},
   "outputs": [
    {
     "data": {
      "text/plain": [
       "21"
      ]
     },
     "execution_count": 11,
     "metadata": {},
     "output_type": "execute_result"
    }
   ],
   "source": [
    "# Use mult() multiply two integers\n",
    "\n",
    "Mult(3, 7)"
   ]
  },
  {
   "cell_type": "code",
   "execution_count": 12,
   "id": "de7893fb",
   "metadata": {},
   "outputs": [],
   "source": [
    "# Define a function for multiply two numbers\n",
    "\n",
    "def Mult(a, b):\n",
    "    \"\"\"\n",
    "    Multiply a times b\n",
    "    \"\"\"\n",
    "    c = a * b\n",
    "    return(c)"
   ]
  },
  {
   "cell_type": "code",
   "execution_count": 13,
   "id": "d84387cb",
   "metadata": {},
   "outputs": [
    {
     "name": "stdout",
     "output_type": "stream",
     "text": [
      "Help on function Mult in module __main__:\n",
      "\n",
      "Mult(a, b)\n",
      "    Multiply a times b\n",
      "\n"
     ]
    }
   ],
   "source": [
    "help(Mult)"
   ]
  },
  {
   "cell_type": "code",
   "execution_count": 14,
   "id": "e56866b8",
   "metadata": {},
   "outputs": [
    {
     "data": {
      "text/plain": [
       "31.400000000000002"
      ]
     },
     "execution_count": 14,
     "metadata": {},
     "output_type": "execute_result"
    }
   ],
   "source": [
    "# Use mult() multiply two floats\n",
    "\n",
    "Mult(10.0, 3.14)"
   ]
  },
  {
   "cell_type": "code",
   "execution_count": 15,
   "id": "0b1ec006",
   "metadata": {},
   "outputs": [
    {
     "data": {
      "text/plain": [
       "'Michael Jackson Michael Jackson '"
      ]
     },
     "execution_count": 15,
     "metadata": {},
     "output_type": "execute_result"
    }
   ],
   "source": [
    "# Use mult() multiply two different type values together\n",
    "\n",
    "Mult(2, \"Michael Jackson \")"
   ]
  },
  {
   "cell_type": "code",
   "execution_count": 16,
   "id": "a21da39c",
   "metadata": {},
   "outputs": [
    {
     "data": {
      "text/plain": [
       "'Hey babes Hey babes '"
      ]
     },
     "execution_count": 16,
     "metadata": {},
     "output_type": "execute_result"
    }
   ],
   "source": [
    "# Use mult() multiply two different type values together\n",
    "\n",
    "Mult(2, \"Hey babes \")"
   ]
  },
  {
   "cell_type": "code",
   "execution_count": null,
   "id": "0fb49156",
   "metadata": {},
   "outputs": [],
   "source": [
    "# # Remember the shotcut to convert text into comments: command + forwardslash (/)\n",
    "\n",
    "# # example 1\n",
    "\n",
    "# # example 2\n",
    "\n",
    "# example 3"
   ]
  },
  {
   "cell_type": "code",
   "execution_count": 1,
   "id": "224eb498",
   "metadata": {
    "tags": []
   },
   "outputs": [],
   "source": [
    "# Remember the shortcut to open available functions menus (lst + . + tab)\n",
    "\n",
    "lst = [1, 2, 3, 4]\n",
    "lst.clear"
   ]
  },
  {
   "cell_type": "markdown",
   "id": "45b078ba-9c97-486f-8658-a6db0e4e2c88",
   "metadata": {},
   "source": [
    "### Variables"
   ]
  },
  {
   "cell_type": "code",
   "execution_count": 4,
   "id": "25206bcd-68d3-4c6f-9f1a-4ad13c167cfe",
   "metadata": {},
   "outputs": [],
   "source": [
    "# Function Definition\n",
    "\n",
    "def square(a):\n",
    "    \n",
    "    # Local variable b\n",
    "    b = 1\n",
    "    c = a * a + b\n",
    "    print(a, \"if you square + 1 =\", c) \n",
    "    return(c)"
   ]
  },
  {
   "cell_type": "code",
   "execution_count": 5,
   "id": "7c07d516-793b-4dd8-bd9b-a3fbca575dfc",
   "metadata": {},
   "outputs": [
    {
     "name": "stdout",
     "output_type": "stream",
     "text": [
      "3 if you square + 1 = 10\n"
     ]
    },
    {
     "data": {
      "text/plain": [
       "10"
      ]
     },
     "execution_count": 5,
     "metadata": {},
     "output_type": "execute_result"
    }
   ],
   "source": [
    "square(3)"
   ]
  },
  {
   "cell_type": "code",
   "execution_count": 7,
   "id": "c520ff9e-3133-4b00-b26c-f3e9d6a16649",
   "metadata": {},
   "outputs": [
    {
     "name": "stdout",
     "output_type": "stream",
     "text": [
      "2 if you square + 1 = 5\n"
     ]
    },
    {
     "data": {
      "text/plain": [
       "5"
      ]
     },
     "execution_count": 7,
     "metadata": {},
     "output_type": "execute_result"
    }
   ],
   "source": [
    "# Initializes Global variable  \n",
    "\n",
    "x = 2\n",
    "# Makes function call and return function a y\n",
    "y = square(x)\n",
    "y"
   ]
  },
  {
   "cell_type": "code",
   "execution_count": 8,
   "id": "8d28f9bf-3323-4ca1-9c57-fe1db513e1cc",
   "metadata": {},
   "outputs": [
    {
     "name": "stdout",
     "output_type": "stream",
     "text": [
      "2 if you square + 1 = 5\n"
     ]
    },
    {
     "data": {
      "text/plain": [
       "5"
      ]
     },
     "execution_count": 8,
     "metadata": {},
     "output_type": "execute_result"
    }
   ],
   "source": [
    "# Directly enter a number as parameter\n",
    "\n",
    "square(2)"
   ]
  },
  {
   "cell_type": "code",
   "execution_count": 9,
   "id": "5619e837-ab68-4440-bb8d-4ad51cef860b",
   "metadata": {},
   "outputs": [
    {
     "data": {
      "text/plain": [
       "5"
      ]
     },
     "execution_count": 9,
     "metadata": {},
     "output_type": "execute_result"
    }
   ],
   "source": [
    "y"
   ]
  },
  {
   "cell_type": "code",
   "execution_count": 10,
   "id": "9bd6ad8b-15d7-42a3-b0c3-4e5eb9bd3479",
   "metadata": {},
   "outputs": [
    {
     "data": {
      "text/plain": [
       "2"
      ]
     },
     "execution_count": 10,
     "metadata": {},
     "output_type": "execute_result"
    }
   ],
   "source": [
    "x"
   ]
  },
  {
   "cell_type": "code",
   "execution_count": 11,
   "id": "0507f927-01e4-4123-ba10-fc8d281639b4",
   "metadata": {},
   "outputs": [],
   "source": [
    "# Define functions, one with return value None and other without return value\n",
    "\n",
    "def MJ():\n",
    "    print('Michael Jackson')\n",
    "    \n",
    "def MJ1():\n",
    "    print('Michael Jackson')\n",
    "    return(None)"
   ]
  },
  {
   "cell_type": "code",
   "execution_count": 12,
   "id": "0a070474-a88a-4bed-bed4-d3b764729679",
   "metadata": {},
   "outputs": [
    {
     "name": "stdout",
     "output_type": "stream",
     "text": [
      "Michael Jackson\n"
     ]
    }
   ],
   "source": [
    "MJ()"
   ]
  },
  {
   "cell_type": "code",
   "execution_count": 13,
   "id": "6109e2c1-9586-4e7e-b595-2dfef00b0cee",
   "metadata": {},
   "outputs": [
    {
     "name": "stdout",
     "output_type": "stream",
     "text": [
      "Michael Jackson\n"
     ]
    }
   ],
   "source": [
    "MJ1()"
   ]
  },
  {
   "cell_type": "code",
   "execution_count": 14,
   "id": "eb46eaea-e914-48b9-bc2e-1c5864989f1c",
   "metadata": {},
   "outputs": [
    {
     "name": "stdout",
     "output_type": "stream",
     "text": [
      "Michael Jackson\n",
      "None\n",
      "Michael Jackson\n",
      "None\n"
     ]
    }
   ],
   "source": [
    "# See what functions returns are\n",
    "\n",
    "print(MJ())\n",
    "print(MJ1())"
   ]
  },
  {
   "cell_type": "code",
   "execution_count": 15,
   "id": "81af7da2-a2dc-48c8-a742-5e3e5bc54fd8",
   "metadata": {},
   "outputs": [
    {
     "name": "stdout",
     "output_type": "stream",
     "text": [
      "Michael Jackson\n",
      "None\n"
     ]
    }
   ],
   "source": [
    "print(MJ())"
   ]
  },
  {
   "cell_type": "code",
   "execution_count": 16,
   "id": "463f5916-2ac6-4d93-9044-9f367a74c7c1",
   "metadata": {},
   "outputs": [],
   "source": [
    "# Define the function for combining strings\n",
    "\n",
    "def con(a, b):\n",
    "    return(a + b)"
   ]
  },
  {
   "cell_type": "code",
   "execution_count": 17,
   "id": "478bd5a3-604a-4e7a-864b-60ac8ccbaa68",
   "metadata": {},
   "outputs": [
    {
     "data": {
      "text/plain": [
       "'This is'"
      ]
     },
     "execution_count": 17,
     "metadata": {},
     "output_type": "execute_result"
    }
   ],
   "source": [
    "# Test on the con() function\n",
    "\n",
    "con(\"This \", \"is\")"
   ]
  },
  {
   "cell_type": "code",
   "execution_count": 18,
   "id": "45573a80-62e9-4763-ab6a-b3f59a95d107",
   "metadata": {},
   "outputs": [
    {
     "data": {
      "text/plain": [
       "5"
      ]
     },
     "execution_count": 18,
     "metadata": {},
     "output_type": "execute_result"
    }
   ],
   "source": [
    "# a and b calculation block1\n",
    "\n",
    "a1 = 4\n",
    "b1 = 5\n",
    "c1 = a1 + b1 + 2 * a1 * b1 - 1\n",
    "if(c1 < 0):\n",
    "    c1 = 0 \n",
    "else:\n",
    "    c1 = 5\n",
    "c1   "
   ]
  },
  {
   "cell_type": "code",
   "execution_count": 23,
   "id": "2ba90d3a-8c5c-4f09-b947-a4651b0f0e55",
   "metadata": {},
   "outputs": [
    {
     "data": {
      "text/plain": [
       "48"
      ]
     },
     "execution_count": 23,
     "metadata": {},
     "output_type": "execute_result"
    }
   ],
   "source": [
    "a3 = 4\n",
    "b3 = 5\n",
    "c3 = a3 + b3 + 2 * a3 * b3 - 1\n",
    "c3"
   ]
  },
  {
   "cell_type": "code",
   "execution_count": 24,
   "id": "ffa3848a-8694-4b64-8980-054bac45e573",
   "metadata": {},
   "outputs": [
    {
     "data": {
      "text/plain": [
       "0"
      ]
     },
     "execution_count": 24,
     "metadata": {},
     "output_type": "execute_result"
    }
   ],
   "source": [
    "# a and b calculation block2\n",
    "\n",
    "a2 = 0\n",
    "b2 = 0\n",
    "c2 = a2 + b2 + 2 * a2 * b2 - 1\n",
    "if(c2 < 0):\n",
    "    c2 = 0 \n",
    "else:\n",
    "    c2 = 5\n",
    "c2   "
   ]
  },
  {
   "cell_type": "code",
   "execution_count": 26,
   "id": "5d7f79c2-8820-414a-807b-ea1cc16e4510",
   "metadata": {},
   "outputs": [
    {
     "data": {
      "text/plain": [
       "-1"
      ]
     },
     "execution_count": 26,
     "metadata": {},
     "output_type": "execute_result"
    }
   ],
   "source": [
    "a4 = 0\n",
    "b4 = 0\n",
    "c4 = a4 + b4 + 2 * a4 * b4 - 1\n",
    "c4"
   ]
  },
  {
   "cell_type": "code",
   "execution_count": 27,
   "id": "1273e222-7407-414f-babd-f3a142d198a7",
   "metadata": {},
   "outputs": [],
   "source": [
    "# Make a Function for the calculation above\n",
    "\n",
    "def Equation(a,b):\n",
    "    c = a + b + 2 * a * b - 1\n",
    "    if(c < 0):\n",
    "        c = 0 \n",
    "    else:\n",
    "        c = 5\n",
    "    return(c) "
   ]
  },
  {
   "cell_type": "code",
   "execution_count": 31,
   "id": "87bfb557-f0af-4257-8de2-8eb2c85917df",
   "metadata": {},
   "outputs": [
    {
     "data": {
      "text/plain": [
       "5"
      ]
     },
     "execution_count": 31,
     "metadata": {},
     "output_type": "execute_result"
    }
   ],
   "source": [
    "a1 = 4\n",
    "b1 = 5\n",
    "c1 = Equation(a1, b1)\n",
    "c1"
   ]
  },
  {
   "cell_type": "code",
   "execution_count": 33,
   "id": "613111c9-884a-427a-b902-e42eb4151d69",
   "metadata": {},
   "outputs": [
    {
     "data": {
      "text/plain": [
       "0"
      ]
     },
     "execution_count": 33,
     "metadata": {},
     "output_type": "execute_result"
    }
   ],
   "source": [
    "a2 = 0\n",
    "b2 = 0\n",
    "c2 = Equation(a2, b2)\n",
    "c2"
   ]
  },
  {
   "cell_type": "markdown",
   "id": "a8b97352-2d5b-462f-91e3-036c4fab7540",
   "metadata": {},
   "source": [
    "### Pre-defined functions"
   ]
  },
  {
   "cell_type": "code",
   "execution_count": 38,
   "id": "d4e2c1f5-c275-4725-930d-3c81a33dcc52",
   "metadata": {},
   "outputs": [],
   "source": [
    "# Print the list using for loop\n",
    "\n",
    "def PrintList(lista):\n",
    "    for element in lista:\n",
    "        print(element)"
   ]
  },
  {
   "cell_type": "code",
   "execution_count": 45,
   "id": "8922f167-c6ae-4122-aa27-524f1614044a",
   "metadata": {},
   "outputs": [
    {
     "name": "stdout",
     "output_type": "stream",
     "text": [
      "1\n",
      "1\n",
      "teste\n",
      "teste2\n",
      "the man\n"
     ]
    }
   ],
   "source": [
    "PrintList([1, 1, 'teste', \"teste2\", \"the man\"])"
   ]
  },
  {
   "cell_type": "markdown",
   "id": "cfc8eb4d-3c5f-4ddc-b2af-1277817f535f",
   "metadata": {},
   "source": [
    "### Global Variables"
   ]
  },
  {
   "cell_type": "code",
   "execution_count": 46,
   "id": "e71e4297-211d-4626-84b3-2c8b2da9771c",
   "metadata": {},
   "outputs": [
    {
     "name": "stdout",
     "output_type": "stream",
     "text": [
      "Michael Jackson is an artist\n"
     ]
    }
   ],
   "source": [
    "# Example of global variable\n",
    "\n",
    "artist = \"Michael Jackson\"\n",
    "def printer1(artist):\n",
    "    internal_var = artist\n",
    "    print(artist, \"is an artist\")\n",
    "    \n",
    "printer1(artist)"
   ]
  },
  {
   "cell_type": "code",
   "execution_count": 47,
   "id": "2702974c-346e-46fe-8eea-3f1afdcee5dc",
   "metadata": {},
   "outputs": [
    {
     "ename": "NameError",
     "evalue": "name 'internal_var' is not defined",
     "output_type": "error",
     "traceback": [
      "\u001b[0;31m---------------------------------------------------------------------------\u001b[0m",
      "\u001b[0;31mNameError\u001b[0m                                 Traceback (most recent call last)",
      "Input \u001b[0;32mIn [47]\u001b[0m, in \u001b[0;36m<cell line: 3>\u001b[0;34m()\u001b[0m\n\u001b[1;32m      1\u001b[0m \u001b[38;5;66;03m# If we print internal_var we get an error\u001b[39;00m\n\u001b[0;32m----> 3\u001b[0m printer1(\u001b[43minternal_var\u001b[49m)\n",
      "\u001b[0;31mNameError\u001b[0m: name 'internal_var' is not defined"
     ]
    }
   ],
   "source": [
    "# If we print internal_var we get an error\n",
    "\n",
    "printer1(internal_var)"
   ]
  },
  {
   "cell_type": "code",
   "execution_count": 75,
   "id": "679f1fc8-3c21-4d59-9cee-6b1456b81cef",
   "metadata": {},
   "outputs": [
    {
     "name": "stdout",
     "output_type": "stream",
     "text": [
      "Michael Jackson is an artist\n"
     ]
    }
   ],
   "source": [
    "# Example of global variable\n",
    "\n",
    "artist = \"Michael Jackson\"\n",
    "def printer1(artist):\n",
    "    internal_var = artist\n",
    "    print(artist, \"is an artist\")\n",
    "    \n",
    "printer1(artist)"
   ]
  },
  {
   "cell_type": "code",
   "execution_count": 76,
   "id": "9e2d31df-9f9a-4834-beea-4ab24f76904f",
   "metadata": {},
   "outputs": [
    {
     "name": "stdout",
     "output_type": "stream",
     "text": [
      "Whitney Houston is an artist\n"
     ]
    }
   ],
   "source": [
    "printer1(internal_var)"
   ]
  },
  {
   "cell_type": "code",
   "execution_count": 77,
   "id": "76a4f2fe-5d79-4d4f-9fc9-951d6fc9b1fc",
   "metadata": {},
   "outputs": [
    {
     "name": "stdout",
     "output_type": "stream",
     "text": [
      "Michael Jackson\n"
     ]
    }
   ],
   "source": [
    "print(artist)"
   ]
  },
  {
   "cell_type": "code",
   "execution_count": 78,
   "id": "a32fdb64-064f-48e6-8887-b592cceb015d",
   "metadata": {},
   "outputs": [
    {
     "name": "stdout",
     "output_type": "stream",
     "text": [
      "Whitney Houston\n"
     ]
    }
   ],
   "source": [
    "print(internal_var)"
   ]
  },
  {
   "cell_type": "code",
   "execution_count": 73,
   "id": "4b22758d-b315-43f4-8b6f-bf9a48065c46",
   "metadata": {},
   "outputs": [
    {
     "name": "stdout",
     "output_type": "stream",
     "text": [
      "Michael Jackson is an artist\n",
      "Whitney Houston is an artist\n"
     ]
    }
   ],
   "source": [
    "artist = \"Michael Jackson\"\n",
    "\n",
    "def printer(artist):\n",
    "    global internal_var1 \n",
    "    internal_var1= \"Whitney Houston\"\n",
    "    print(artist,\"is an artist\")\n",
    "\n",
    "printer(artist) \n",
    "printer(internal_var1)"
   ]
  },
  {
   "cell_type": "code",
   "execution_count": 52,
   "id": "2d983cc7-0a24-4222-8481-a9b8773fac2f",
   "metadata": {},
   "outputs": [
    {
     "data": {
      "text/plain": [
       "'Michael Jackson'"
      ]
     },
     "execution_count": 52,
     "metadata": {},
     "output_type": "execute_result"
    }
   ],
   "source": [
    "artist"
   ]
  },
  {
   "cell_type": "code",
   "execution_count": 74,
   "id": "b6e85155-4fef-4084-91bb-2c67475d6712",
   "metadata": {},
   "outputs": [
    {
     "data": {
      "text/plain": [
       "'Whitney Houston'"
      ]
     },
     "execution_count": 74,
     "metadata": {},
     "output_type": "execute_result"
    }
   ],
   "source": [
    "internal_var1"
   ]
  },
  {
   "cell_type": "code",
   "execution_count": 82,
   "id": "3d467629-5105-49d9-973b-9849c85ee5ef",
   "metadata": {},
   "outputs": [
    {
     "name": "stdout",
     "output_type": "stream",
     "text": [
      "Michael Jackson is an artist\n",
      "Whitney Houston is an artist\n",
      "Jopel is an artist\n",
      "Pitinho is an artist\n"
     ]
    }
   ],
   "source": [
    "artist = \"Michael Jackson\"\n",
    "artist1 = \"Jopel\"\n",
    "example = \"Pitinho\"\n",
    "\n",
    "def printer(artist):\n",
    "    global internal_var \n",
    "    internal_var= \"Whitney Houston\"\n",
    "    print(artist,\"is an artist\")\n",
    "\n",
    "printer(artist) \n",
    "printer(internal_var)\n",
    "printer(artist1)\n",
    "printer(example)"
   ]
  },
  {
   "cell_type": "code",
   "execution_count": 61,
   "id": "c88c1c21-97fc-482b-8322-2035fdbf4f3b",
   "metadata": {},
   "outputs": [
    {
     "name": "stdout",
     "output_type": "stream",
     "text": [
      "Muse is an artist\n"
     ]
    },
    {
     "ename": "NameError",
     "evalue": "name 'internal_var2' is not defined",
     "output_type": "error",
     "traceback": [
      "\u001b[0;31m---------------------------------------------------------------------------\u001b[0m",
      "\u001b[0;31mNameError\u001b[0m                                 Traceback (most recent call last)",
      "Input \u001b[0;32mIn [61]\u001b[0m, in \u001b[0;36m<cell line: 8>\u001b[0;34m()\u001b[0m\n\u001b[1;32m      5\u001b[0m     \u001b[38;5;28mprint\u001b[39m(artist,\u001b[38;5;124m\"\u001b[39m\u001b[38;5;124mis an artist\u001b[39m\u001b[38;5;124m\"\u001b[39m)\n\u001b[1;32m      7\u001b[0m printer2(artist2) \n\u001b[0;32m----> 8\u001b[0m printer2(\u001b[43minternal_var2\u001b[49m)\n",
      "\u001b[0;31mNameError\u001b[0m: name 'internal_var2' is not defined"
     ]
    }
   ],
   "source": [
    "artist2 = \"Muse\"\n",
    "\n",
    "def printer2(artist):\n",
    "    internal_var2 = \"Bush\"\n",
    "    print(artist,\"is an artist\")\n",
    "\n",
    "printer2(artist2) \n",
    "printer2(internal_var2)"
   ]
  },
  {
   "cell_type": "code",
   "execution_count": 62,
   "id": "dd56f1ab-cb9a-4690-a0de-bd73ca1018e7",
   "metadata": {},
   "outputs": [
    {
     "data": {
      "text/plain": [
       "'Muse'"
      ]
     },
     "execution_count": 62,
     "metadata": {},
     "output_type": "execute_result"
    }
   ],
   "source": [
    "artist2"
   ]
  },
  {
   "cell_type": "code",
   "execution_count": 63,
   "id": "6520a379-6830-4809-869a-0cdc9e7b42a5",
   "metadata": {},
   "outputs": [
    {
     "ename": "NameError",
     "evalue": "name 'internal_var2' is not defined",
     "output_type": "error",
     "traceback": [
      "\u001b[0;31m---------------------------------------------------------------------------\u001b[0m",
      "\u001b[0;31mNameError\u001b[0m                                 Traceback (most recent call last)",
      "Input \u001b[0;32mIn [63]\u001b[0m, in \u001b[0;36m<cell line: 1>\u001b[0;34m()\u001b[0m\n\u001b[0;32m----> 1\u001b[0m \u001b[43minternal_var2\u001b[49m\n",
      "\u001b[0;31mNameError\u001b[0m: name 'internal_var2' is not defined"
     ]
    }
   ],
   "source": [
    "internal_var2"
   ]
  },
  {
   "cell_type": "code",
   "execution_count": 79,
   "id": "a62bae08-2753-4272-a4da-45d1aa820679",
   "metadata": {},
   "outputs": [
    {
     "name": "stdout",
     "output_type": "stream",
     "text": [
      "Michael Jackson is an artist\n"
     ]
    }
   ],
   "source": [
    "# Example of global variable 2 (part 1 of 3)\n",
    "\n",
    "artist9 = \"Jopel\"\n",
    "def printer9(artist9):\n",
    "    internal_var9 = artist9\n",
    "    print(artist, \"is an artist\")\n",
    "    \n",
    "printer9(artist9)"
   ]
  },
  {
   "cell_type": "code",
   "execution_count": 80,
   "id": "1a429d10-aaa4-4f33-bf8a-dff622de944f",
   "metadata": {},
   "outputs": [
    {
     "name": "stdout",
     "output_type": "stream",
     "text": [
      "Jopel\n"
     ]
    }
   ],
   "source": [
    "print(artist9)"
   ]
  },
  {
   "cell_type": "code",
   "execution_count": 81,
   "id": "9905ddae-592d-4e4b-9cc0-fd7c11e271a9",
   "metadata": {},
   "outputs": [
    {
     "ename": "NameError",
     "evalue": "name 'internal_var9' is not defined",
     "output_type": "error",
     "traceback": [
      "\u001b[0;31m---------------------------------------------------------------------------\u001b[0m",
      "\u001b[0;31mNameError\u001b[0m                                 Traceback (most recent call last)",
      "Input \u001b[0;32mIn [81]\u001b[0m, in \u001b[0;36m<cell line: 1>\u001b[0;34m()\u001b[0m\n\u001b[0;32m----> 1\u001b[0m \u001b[38;5;28mprint\u001b[39m(\u001b[43minternal_var9\u001b[49m)\n",
      "\u001b[0;31mNameError\u001b[0m: name 'internal_var9' is not defined"
     ]
    }
   ],
   "source": [
    "print(internal_var9)"
   ]
  },
  {
   "cell_type": "code",
   "execution_count": 90,
   "id": "01a3813f-9158-47b6-a877-d63a031a8f62",
   "metadata": {},
   "outputs": [
    {
     "name": "stdout",
     "output_type": "stream",
     "text": [
      "Jeronimo is an artist\n",
      "Jeronimo\n"
     ]
    },
    {
     "ename": "NameError",
     "evalue": "name 'internal_var10' is not defined",
     "output_type": "error",
     "traceback": [
      "\u001b[0;31m---------------------------------------------------------------------------\u001b[0m",
      "\u001b[0;31mNameError\u001b[0m                                 Traceback (most recent call last)",
      "Input \u001b[0;32mIn [90]\u001b[0m, in \u001b[0;36m<cell line: 10>\u001b[0;34m()\u001b[0m\n\u001b[1;32m      8\u001b[0m printer10(artist10)\n\u001b[1;32m      9\u001b[0m \u001b[38;5;28mprint\u001b[39m(artist10)\n\u001b[0;32m---> 10\u001b[0m printer10(\u001b[43minternal_var10\u001b[49m)\n",
      "\u001b[0;31mNameError\u001b[0m: name 'internal_var10' is not defined"
     ]
    }
   ],
   "source": [
    "# Example of global variable 2 (part 2 of 3)\n",
    "\n",
    "artist10 = \"Jeronimo\"\n",
    "def printer10(artist10):\n",
    "    internal_var10 = \"Gertrudes\"\n",
    "    print(artist10, \"is an artist\")\n",
    "    \n",
    "printer10(artist10)\n",
    "print(artist10)\n",
    "printer10(internal_var10)"
   ]
  },
  {
   "cell_type": "code",
   "execution_count": 91,
   "id": "4aca9a73-32c4-4b6c-9117-b64470cd0a4d",
   "metadata": {},
   "outputs": [
    {
     "name": "stdout",
     "output_type": "stream",
     "text": [
      "Jeronimo is an artist\n",
      "Jeronimo\n",
      "Gertrudes is an artist\n"
     ]
    }
   ],
   "source": [
    "# Example of global variable 2 (part 3 of 3)\n",
    "\n",
    "artist10 = \"Jeronimo\"\n",
    "def printer10(artist10):\n",
    "    global internal_var10 \n",
    "    internal_var10 = \"Gertrudes\"\n",
    "    print(artist10, \"is an artist\")\n",
    "    \n",
    "printer10(artist10)\n",
    "print(artist10)\n",
    "printer10(internal_var10)"
   ]
  },
  {
   "cell_type": "code",
   "execution_count": null,
   "id": "65eb5c37-f9e7-471b-b688-733245693d87",
   "metadata": {},
   "outputs": [],
   "source": []
  }
 ],
 "metadata": {
  "kernelspec": {
   "display_name": "Python 3 (ipykernel)",
   "language": "python",
   "name": "python3"
  },
  "language_info": {
   "codemirror_mode": {
    "name": "ipython",
    "version": 3
   },
   "file_extension": ".py",
   "mimetype": "text/x-python",
   "name": "python",
   "nbconvert_exporter": "python",
   "pygments_lexer": "ipython3",
   "version": "3.9.12"
  }
 },
 "nbformat": 4,
 "nbformat_minor": 5
}
